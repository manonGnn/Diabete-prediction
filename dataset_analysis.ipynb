{
 "cells": [
  {
   "cell_type": "code",
   "execution_count": 98,
   "id": "d1f573af",
   "metadata": {},
   "outputs": [],
   "source": [
    "import csv\n",
    "import pandas as pd\n",
    "import matplotlib.pyplot as plt\n",
    "import seaborn as sns\n",
    "from sklearn.preprocessing import LabelEncoder\n",
    "import math"
   ]
  },
  {
   "cell_type": "markdown",
   "id": "4a6cfd34",
   "metadata": {},
   "source": [
    "# DATASET ANALYSIS"
   ]
  },
  {
   "cell_type": "markdown",
   "id": "83c2d858",
   "metadata": {},
   "source": [
    "### DATA LOADING"
   ]
  },
  {
   "cell_type": "code",
   "execution_count": 99,
   "id": "6bced4ed",
   "metadata": {},
   "outputs": [],
   "source": [
    "def read_csv(file_path):\n",
    "    \"\"\"Reads a CSV file and returns its content as a list of dictionaries.\"\"\"\n",
    "    with open(file_path, mode='r', newline='', encoding='utf-8') as csvfile:\n",
    "        reader = csv.DictReader(csvfile)\n",
    "        return [row for row in reader]\n"
   ]
  },
  {
   "cell_type": "code",
   "execution_count": 100,
   "id": "68b58b0a",
   "metadata": {},
   "outputs": [
    {
     "data": {
      "text/html": [
       "<div>\n",
       "<style scoped>\n",
       "    .dataframe tbody tr th:only-of-type {\n",
       "        vertical-align: middle;\n",
       "    }\n",
       "\n",
       "    .dataframe tbody tr th {\n",
       "        vertical-align: top;\n",
       "    }\n",
       "\n",
       "    .dataframe thead th {\n",
       "        text-align: right;\n",
       "    }\n",
       "</style>\n",
       "<table border=\"1\" class=\"dataframe\">\n",
       "  <thead>\n",
       "    <tr style=\"text-align: right;\">\n",
       "      <th></th>\n",
       "      <th>gender</th>\n",
       "      <th>age</th>\n",
       "      <th>hypertension</th>\n",
       "      <th>heart_disease</th>\n",
       "      <th>smoking_history</th>\n",
       "      <th>bmi</th>\n",
       "      <th>HbA1c_level</th>\n",
       "      <th>blood_glucose_level</th>\n",
       "      <th>diabetes</th>\n",
       "    </tr>\n",
       "  </thead>\n",
       "  <tbody>\n",
       "    <tr>\n",
       "      <th>0</th>\n",
       "      <td>Female</td>\n",
       "      <td>80.0</td>\n",
       "      <td>0</td>\n",
       "      <td>1</td>\n",
       "      <td>never</td>\n",
       "      <td>25.19</td>\n",
       "      <td>6.6</td>\n",
       "      <td>140</td>\n",
       "      <td>0</td>\n",
       "    </tr>\n",
       "    <tr>\n",
       "      <th>1</th>\n",
       "      <td>Female</td>\n",
       "      <td>54.0</td>\n",
       "      <td>0</td>\n",
       "      <td>0</td>\n",
       "      <td>No Info</td>\n",
       "      <td>27.32</td>\n",
       "      <td>6.6</td>\n",
       "      <td>80</td>\n",
       "      <td>0</td>\n",
       "    </tr>\n",
       "    <tr>\n",
       "      <th>2</th>\n",
       "      <td>Male</td>\n",
       "      <td>28.0</td>\n",
       "      <td>0</td>\n",
       "      <td>0</td>\n",
       "      <td>never</td>\n",
       "      <td>27.32</td>\n",
       "      <td>5.7</td>\n",
       "      <td>158</td>\n",
       "      <td>0</td>\n",
       "    </tr>\n",
       "    <tr>\n",
       "      <th>3</th>\n",
       "      <td>Female</td>\n",
       "      <td>36.0</td>\n",
       "      <td>0</td>\n",
       "      <td>0</td>\n",
       "      <td>current</td>\n",
       "      <td>23.45</td>\n",
       "      <td>5.0</td>\n",
       "      <td>155</td>\n",
       "      <td>0</td>\n",
       "    </tr>\n",
       "    <tr>\n",
       "      <th>4</th>\n",
       "      <td>Male</td>\n",
       "      <td>76.0</td>\n",
       "      <td>1</td>\n",
       "      <td>1</td>\n",
       "      <td>current</td>\n",
       "      <td>20.14</td>\n",
       "      <td>4.8</td>\n",
       "      <td>155</td>\n",
       "      <td>0</td>\n",
       "    </tr>\n",
       "    <tr>\n",
       "      <th>...</th>\n",
       "      <td>...</td>\n",
       "      <td>...</td>\n",
       "      <td>...</td>\n",
       "      <td>...</td>\n",
       "      <td>...</td>\n",
       "      <td>...</td>\n",
       "      <td>...</td>\n",
       "      <td>...</td>\n",
       "      <td>...</td>\n",
       "    </tr>\n",
       "    <tr>\n",
       "      <th>99995</th>\n",
       "      <td>Female</td>\n",
       "      <td>80.0</td>\n",
       "      <td>0</td>\n",
       "      <td>0</td>\n",
       "      <td>No Info</td>\n",
       "      <td>27.32</td>\n",
       "      <td>6.2</td>\n",
       "      <td>90</td>\n",
       "      <td>0</td>\n",
       "    </tr>\n",
       "    <tr>\n",
       "      <th>99996</th>\n",
       "      <td>Female</td>\n",
       "      <td>2.0</td>\n",
       "      <td>0</td>\n",
       "      <td>0</td>\n",
       "      <td>No Info</td>\n",
       "      <td>17.37</td>\n",
       "      <td>6.5</td>\n",
       "      <td>100</td>\n",
       "      <td>0</td>\n",
       "    </tr>\n",
       "    <tr>\n",
       "      <th>99997</th>\n",
       "      <td>Male</td>\n",
       "      <td>66.0</td>\n",
       "      <td>0</td>\n",
       "      <td>0</td>\n",
       "      <td>former</td>\n",
       "      <td>27.83</td>\n",
       "      <td>5.7</td>\n",
       "      <td>155</td>\n",
       "      <td>0</td>\n",
       "    </tr>\n",
       "    <tr>\n",
       "      <th>99998</th>\n",
       "      <td>Female</td>\n",
       "      <td>24.0</td>\n",
       "      <td>0</td>\n",
       "      <td>0</td>\n",
       "      <td>never</td>\n",
       "      <td>35.42</td>\n",
       "      <td>4.0</td>\n",
       "      <td>100</td>\n",
       "      <td>0</td>\n",
       "    </tr>\n",
       "    <tr>\n",
       "      <th>99999</th>\n",
       "      <td>Female</td>\n",
       "      <td>57.0</td>\n",
       "      <td>0</td>\n",
       "      <td>0</td>\n",
       "      <td>current</td>\n",
       "      <td>22.43</td>\n",
       "      <td>6.6</td>\n",
       "      <td>90</td>\n",
       "      <td>0</td>\n",
       "    </tr>\n",
       "  </tbody>\n",
       "</table>\n",
       "<p>100000 rows × 9 columns</p>\n",
       "</div>"
      ],
      "text/plain": [
       "       gender   age hypertension heart_disease smoking_history    bmi  \\\n",
       "0      Female  80.0            0             1           never  25.19   \n",
       "1      Female  54.0            0             0         No Info  27.32   \n",
       "2        Male  28.0            0             0           never  27.32   \n",
       "3      Female  36.0            0             0         current  23.45   \n",
       "4        Male  76.0            1             1         current  20.14   \n",
       "...       ...   ...          ...           ...             ...    ...   \n",
       "99995  Female  80.0            0             0         No Info  27.32   \n",
       "99996  Female   2.0            0             0         No Info  17.37   \n",
       "99997    Male  66.0            0             0          former  27.83   \n",
       "99998  Female  24.0            0             0           never  35.42   \n",
       "99999  Female  57.0            0             0         current  22.43   \n",
       "\n",
       "      HbA1c_level blood_glucose_level diabetes  \n",
       "0             6.6                 140        0  \n",
       "1             6.6                  80        0  \n",
       "2             5.7                 158        0  \n",
       "3             5.0                 155        0  \n",
       "4             4.8                 155        0  \n",
       "...           ...                 ...      ...  \n",
       "99995         6.2                  90        0  \n",
       "99996         6.5                 100        0  \n",
       "99997         5.7                 155        0  \n",
       "99998         4.0                 100        0  \n",
       "99999         6.6                  90        0  \n",
       "\n",
       "[100000 rows x 9 columns]"
      ]
     },
     "execution_count": 100,
     "metadata": {},
     "output_type": "execute_result"
    }
   ],
   "source": [
    "dataset_path= './dataset/diabetes_prediction_dataset.csv'\n",
    "data = read_csv(dataset_path)\n",
    "df= pd.DataFrame(data)\n",
    "df"
   ]
  },
  {
   "cell_type": "markdown",
   "id": "08b71143",
   "metadata": {},
   "source": [
    "### DATA PREPARATION"
   ]
  },
  {
   "cell_type": "code",
   "execution_count": 101,
   "id": "619cb5f0",
   "metadata": {},
   "outputs": [
    {
     "data": {
      "text/plain": [
       "3854"
      ]
     },
     "execution_count": 101,
     "metadata": {},
     "output_type": "execute_result"
    }
   ],
   "source": [
    "# count the duplicates\n",
    "df.duplicated().sum()"
   ]
  },
  {
   "cell_type": "code",
   "execution_count": 102,
   "id": "d83c7558",
   "metadata": {},
   "outputs": [],
   "source": [
    "df.drop_duplicates(inplace=True)"
   ]
  },
  {
   "cell_type": "code",
   "execution_count": 141,
   "id": "ea5e9228",
   "metadata": {},
   "outputs": [
    {
     "data": {
      "text/plain": [
       "0"
      ]
     },
     "execution_count": 141,
     "metadata": {},
     "output_type": "execute_result"
    }
   ],
   "source": [
    "df.duplicated().sum()"
   ]
  },
  {
   "cell_type": "code",
   "execution_count": 103,
   "id": "5006c77b",
   "metadata": {},
   "outputs": [
    {
     "data": {
      "text/plain": [
       "gender\n",
       "Female    56161\n",
       "Male      39967\n",
       "Other        18\n",
       "Name: count, dtype: int64"
      ]
     },
     "execution_count": 103,
     "metadata": {},
     "output_type": "execute_result"
    }
   ],
   "source": [
    "df['gender'].value_counts()"
   ]
  },
  {
   "cell_type": "code",
   "execution_count": 104,
   "id": "ad13418c",
   "metadata": {},
   "outputs": [
    {
     "data": {
      "text/plain": [
       "diabetes\n",
       "0    87664\n",
       "1     8482\n",
       "Name: count, dtype: int64"
      ]
     },
     "execution_count": 104,
     "metadata": {},
     "output_type": "execute_result"
    }
   ],
   "source": [
    "df['diabetes'].value_counts()"
   ]
  },
  {
   "cell_type": "markdown",
   "id": "7711ec97",
   "metadata": {},
   "source": [
    "--> Unbalanced dataset"
   ]
  },
  {
   "cell_type": "code",
   "execution_count": 105,
   "id": "0d741be0",
   "metadata": {},
   "outputs": [
    {
     "data": {
      "text/plain": [
       "array(['never', 'No Info', 'current', 'former', 'ever', 'not current'],\n",
       "      dtype=object)"
      ]
     },
     "execution_count": 105,
     "metadata": {},
     "output_type": "execute_result"
    }
   ],
   "source": [
    "df['smoking_history'].unique()"
   ]
  },
  {
   "cell_type": "code",
   "execution_count": 106,
   "id": "2de27477",
   "metadata": {},
   "outputs": [
    {
     "data": {
      "text/plain": [
       "array(['Female', 'Male', 'Other'], dtype=object)"
      ]
     },
     "execution_count": 106,
     "metadata": {},
     "output_type": "execute_result"
    }
   ],
   "source": [
    "# how many genres are there?\n",
    "df['gender'].unique()"
   ]
  },
  {
   "cell_type": "code",
   "execution_count": 107,
   "id": "7f1791fd",
   "metadata": {},
   "outputs": [],
   "source": [
    "# encode the categorical columns\n",
    "df['gender_encoded'] = LabelEncoder().fit_transform(df['gender'])\n",
    "df['smoking_encoded'] = LabelEncoder().fit_transform(df['smoking_history'])\n",
    "df = df.drop(columns=['gender','smoking_history'])"
   ]
  },
  {
   "cell_type": "code",
   "execution_count": 108,
   "id": "743aca89",
   "metadata": {},
   "outputs": [],
   "source": [
    "#make sure every column is numeric\n",
    "for col in df.columns:\n",
    "    if not pd.api.types.is_numeric_dtype(df[col]):\n",
    "        df[col] = pd.to_numeric(df[col], errors='coerce')"
   ]
  },
  {
   "cell_type": "code",
   "execution_count": 109,
   "id": "9bed77c4",
   "metadata": {},
   "outputs": [
    {
     "data": {
      "text/html": [
       "<div>\n",
       "<style scoped>\n",
       "    .dataframe tbody tr th:only-of-type {\n",
       "        vertical-align: middle;\n",
       "    }\n",
       "\n",
       "    .dataframe tbody tr th {\n",
       "        vertical-align: top;\n",
       "    }\n",
       "\n",
       "    .dataframe thead th {\n",
       "        text-align: right;\n",
       "    }\n",
       "</style>\n",
       "<table border=\"1\" class=\"dataframe\">\n",
       "  <thead>\n",
       "    <tr style=\"text-align: right;\">\n",
       "      <th></th>\n",
       "      <th>age</th>\n",
       "      <th>hypertension</th>\n",
       "      <th>heart_disease</th>\n",
       "      <th>bmi</th>\n",
       "      <th>HbA1c_level</th>\n",
       "      <th>blood_glucose_level</th>\n",
       "      <th>diabetes</th>\n",
       "      <th>gender_encoded</th>\n",
       "      <th>smoking_encoded</th>\n",
       "    </tr>\n",
       "  </thead>\n",
       "  <tbody>\n",
       "    <tr>\n",
       "      <th>0</th>\n",
       "      <td>80.0</td>\n",
       "      <td>0</td>\n",
       "      <td>1</td>\n",
       "      <td>25.19</td>\n",
       "      <td>6.6</td>\n",
       "      <td>140</td>\n",
       "      <td>0</td>\n",
       "      <td>0</td>\n",
       "      <td>4</td>\n",
       "    </tr>\n",
       "    <tr>\n",
       "      <th>1</th>\n",
       "      <td>54.0</td>\n",
       "      <td>0</td>\n",
       "      <td>0</td>\n",
       "      <td>27.32</td>\n",
       "      <td>6.6</td>\n",
       "      <td>80</td>\n",
       "      <td>0</td>\n",
       "      <td>0</td>\n",
       "      <td>0</td>\n",
       "    </tr>\n",
       "    <tr>\n",
       "      <th>2</th>\n",
       "      <td>28.0</td>\n",
       "      <td>0</td>\n",
       "      <td>0</td>\n",
       "      <td>27.32</td>\n",
       "      <td>5.7</td>\n",
       "      <td>158</td>\n",
       "      <td>0</td>\n",
       "      <td>1</td>\n",
       "      <td>4</td>\n",
       "    </tr>\n",
       "    <tr>\n",
       "      <th>3</th>\n",
       "      <td>36.0</td>\n",
       "      <td>0</td>\n",
       "      <td>0</td>\n",
       "      <td>23.45</td>\n",
       "      <td>5.0</td>\n",
       "      <td>155</td>\n",
       "      <td>0</td>\n",
       "      <td>0</td>\n",
       "      <td>1</td>\n",
       "    </tr>\n",
       "    <tr>\n",
       "      <th>4</th>\n",
       "      <td>76.0</td>\n",
       "      <td>1</td>\n",
       "      <td>1</td>\n",
       "      <td>20.14</td>\n",
       "      <td>4.8</td>\n",
       "      <td>155</td>\n",
       "      <td>0</td>\n",
       "      <td>1</td>\n",
       "      <td>1</td>\n",
       "    </tr>\n",
       "  </tbody>\n",
       "</table>\n",
       "</div>"
      ],
      "text/plain": [
       "    age  hypertension  heart_disease    bmi  HbA1c_level  blood_glucose_level  \\\n",
       "0  80.0             0              1  25.19          6.6                  140   \n",
       "1  54.0             0              0  27.32          6.6                   80   \n",
       "2  28.0             0              0  27.32          5.7                  158   \n",
       "3  36.0             0              0  23.45          5.0                  155   \n",
       "4  76.0             1              1  20.14          4.8                  155   \n",
       "\n",
       "   diabetes  gender_encoded  smoking_encoded  \n",
       "0         0               0                4  \n",
       "1         0               0                0  \n",
       "2         0               1                4  \n",
       "3         0               0                1  \n",
       "4         0               1                1  "
      ]
     },
     "execution_count": 109,
     "metadata": {},
     "output_type": "execute_result"
    }
   ],
   "source": [
    "df.head()"
   ]
  },
  {
   "cell_type": "markdown",
   "id": "45d6afaf",
   "metadata": {},
   "source": [
    "### Correlation matrix"
   ]
  },
  {
   "cell_type": "code",
   "execution_count": 110,
   "id": "954a001a",
   "metadata": {},
   "outputs": [
    {
     "data": {
      "image/png": "[encoded data removed]",
      "text/plain": [
       "<Figure size 640x480 with 2 Axes>"
      ]
     },
     "metadata": {},
     "output_type": "display_data"
    }
   ],
   "source": [
    "# correlation matrix\n",
    "sns.heatmap(df.corr(), annot=True, fmt='.2f')\n",
    "plt.title('Diabetes Dataset Correlation Matrix')\n",
    "plt.show()"
   ]
  },
  {
   "cell_type": "markdown",
   "id": "d98e0be3",
   "metadata": {},
   "source": [
    "Conclusion : highly correlated parameters are diabetes and blood_glucode_level and HbA1c_level  \n",
    "bmi and age are also slightly correlated"
   ]
  },
  {
   "cell_type": "markdown",
   "id": "74f34d27",
   "metadata": {},
   "source": []
  },
  {
   "cell_type": "markdown",
   "id": "d87c256c",
   "metadata": {},
   "source": [
    "### Outliers"
   ]
  },
  {
   "cell_type": "code",
   "execution_count": 123,
   "id": "7220dabe",
   "metadata": {},
   "outputs": [],
   "source": [
    "def plot_all_boxplots(df_input, cols_per_row=3, figsize=(12, 8)):\n",
    "    \"\"\"\n",
    "    Plot boxplots for all numeric columns in the DataFrame.\n",
    "    Args:\n",
    "        df_input (pd.DataFrame): DataFrame to plot.\n",
    "        cols_per_row (int): Number of plots per row.\n",
    "        figsize (tuple): Figure size.\n",
    "    \"\"\"\n",
    "    plt.close('all')  # Reset/clear all previous figures\n",
    "\n",
    "    numeric_cols = df_input.select_dtypes(include='number').columns\n",
    "    nrows = math.ceil(len(numeric_cols) / cols_per_row)\n",
    "    fig, axes = plt.subplots(nrows=nrows, ncols=cols_per_row, figsize=figsize, sharex=True)\n",
    "    axes = axes.flatten()\n",
    "    for i, ax in enumerate(axes):\n",
    "        if i < len(numeric_cols):\n",
    "            ax.boxplot(df_input[numeric_cols[i]].dropna(),\n",
    "                       flierprops=dict(markeredgecolor='red'),\n",
    "                       showmeans=True)\n",
    "            ax.set_title(numeric_cols[i])\n",
    "        else:\n",
    "            ax.axis('off')\n",
    "    plt.tight_layout()\n",
    "    plt.show()\n",
    "\n",
    "#"
   ]
  },
  {
   "cell_type": "code",
   "execution_count": 124,
   "id": "59316c67",
   "metadata": {},
   "outputs": [
    {
     "data": {
      "image/png": "[encoded data removed]",
      "text/plain": [
       "<Figure size 1200x800 with 9 Axes>"
      ]
     },
     "metadata": {},
     "output_type": "display_data"
    }
   ],
   "source": [
    "plot_all_boxplots(df)"
   ]
  },
  {
   "cell_type": "markdown",
   "id": "6f709be2",
   "metadata": {},
   "source": [
    "We don't want to remove the outliers because if we do one class disapear.  \n"
   ]
  },
  {
   "cell_type": "markdown",
   "id": "f3f8b3f2",
   "metadata": {},
   "source": [
    "### balance dataset"
   ]
  },
  {
   "cell_type": "code",
   "execution_count": 167,
   "id": "42dc4e87",
   "metadata": {},
   "outputs": [
    {
     "name": "stdout",
     "output_type": "stream",
     "text": [
      "Majority class count: 87664, Minority class count: 8482\n",
      "diabetes\n",
      "1    8482\n",
      "0    8482\n",
      "Name: count, dtype: int64\n"
     ]
    }
   ],
   "source": [
    "\n",
    "# Separate majority and minority classes\n",
    "majority = df[df['diabetes'] == 0]\n",
    "minority = df[df['diabetes'] == 1]\n",
    "\n",
    "majority_count = len(majority)\n",
    "minority_count = len(minority)\n",
    "print(f\"Majority class count: {majority_count}, Minority class count: {minority_count}\")\n",
    "\n",
    "# Downsample majority class\n",
    "majority_downsampled = majority.sample(n=minority_count, random_state=42)\n",
    "\n",
    "# Combine minority class with downsampled majority class\n",
    "df_balanced = pd.concat([majority_downsampled, minority])\n",
    "\n",
    "# Shuffle the dataset\n",
    "df_balanced = df_balanced.sample(frac=1, random_state=42).reset_index(drop=True)\n",
    "\n",
    "# Vérifie la nouvelle répartition\n",
    "print(df_balanced['diabetes'].value_counts())\n"
   ]
  },
  {
   "cell_type": "markdown",
   "id": "b49321a5",
   "metadata": {},
   "source": [
    "### Save preprocessed dataset"
   ]
  },
  {
   "cell_type": "code",
   "execution_count": 168,
   "id": "6bd06556",
   "metadata": {},
   "outputs": [],
   "source": [
    "df_balanced.to_csv('./dataset/diabetes_prediction_dataset_preprocessed.csv', index=False)"
   ]
  },
  {
   "cell_type": "markdown",
   "id": "f2269211",
   "metadata": {},
   "source": [
    "### Split dataset"
   ]
  },
  {
   "cell_type": "code",
   "execution_count": 169,
   "id": "294d0834",
   "metadata": {},
   "outputs": [
    {
     "name": "stdout",
     "output_type": "stream",
     "text": [
      "Training set size: 13571, Test set size: 3393\n"
     ]
    }
   ],
   "source": [
    "from sklearn.model_selection import train_test_split\n",
    "X = df_balanced.drop(columns=['diabetes'])\n",
    "y = df_balanced['diabetes']\n",
    "X_train, X_test, y_train, y_test = train_test_split(X, y, test_size=0.2, random_state=42,stratify=y)\n",
    "print(f\"Training set size: {len(X_train)}, Test set size: {len(X_test)}\")\n",
    "#save the split datasets\n",
    "X_train.to_csv('./dataset/splits/X_train.csv', index=False)\n",
    "X_test.to_csv('./dataset/splits/X_test.csv', index=False)\n",
    "y_train.to_csv('./dataset/splits/y_train.csv', index=False)    \n",
    "y_test.to_csv('./dataset/splits/y_test.csv', index=False)"
   ]
  }
 ],
 "metadata": {
  "kernelspec": {
   "display_name": "Python 3",
   "language": "python",
   "name": "python3"
  },
  "language_info": {
   "codemirror_mode": {
    "name": "ipython",
    "version": 3
   },
   "file_extension": ".py",
   "mimetype": "text/x-python",
   "name": "python",
   "nbconvert_exporter": "python",
   "pygments_lexer": "ipython3",
   "version": "3.11.9"
  }
 },
 "nbformat": 4,
 "nbformat_minor": 5
}
